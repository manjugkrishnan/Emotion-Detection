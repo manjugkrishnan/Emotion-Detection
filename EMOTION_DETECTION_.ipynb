{
 "cells": [
  {
   "cell_type": "markdown",
   "metadata": {
    "id": "FGJt3IXpd-9B"
   },
   "source": [
    "# Installing and importing the necessary libraries"
   ]
  },
  {
   "cell_type": "code",
   "execution_count": 1,
   "metadata": {
    "colab": {
     "base_uri": "https://localhost:8080/"
    },
    "id": "2rfeQj-hFaZ4",
    "outputId": "a0b0057d-3531-4e8a-f7f3-b43f91d73805"
   },
   "outputs": [
    {
     "name": "stdout",
     "output_type": "stream",
     "text": [
      "Requirement already satisfied: contractions in c:\\users\\manju krishna\\anaconda3\\lib\\site-packages (0.1.72)\n",
      "Requirement already satisfied: textsearch>=0.0.21 in c:\\users\\manju krishna\\anaconda3\\lib\\site-packages (from contractions) (0.0.21)\n",
      "Requirement already satisfied: pyahocorasick in c:\\users\\manju krishna\\anaconda3\\lib\\site-packages (from textsearch>=0.0.21->contractions) (1.4.4)\n",
      "Requirement already satisfied: anyascii in c:\\users\\manju krishna\\anaconda3\\lib\\site-packages (from textsearch>=0.0.21->contractions) (0.3.1)\n"
     ]
    }
   ],
   "source": [
    "!pip install contractions"
   ]
  },
  {
   "cell_type": "code",
   "execution_count": 2,
   "metadata": {},
   "outputs": [
    {
     "name": "stdout",
     "output_type": "stream",
     "text": [
      "Requirement already satisfied: gensim in c:\\users\\manju krishna\\anaconda3\\lib\\site-packages (4.2.0)\n",
      "Requirement already satisfied: smart-open>=1.8.1 in c:\\users\\manju krishna\\anaconda3\\lib\\site-packages (from gensim) (6.0.0)\n",
      "Requirement already satisfied: numpy>=1.17.0 in c:\\users\\manju krishna\\anaconda3\\lib\\site-packages (from gensim) (1.19.5)\n",
      "Requirement already satisfied: Cython==0.29.28 in c:\\users\\manju krishna\\anaconda3\\lib\\site-packages (from gensim) (0.29.28)\n",
      "Requirement already satisfied: scipy>=0.18.1 in c:\\users\\manju krishna\\anaconda3\\lib\\site-packages (from gensim) (1.6.2)\n"
     ]
    }
   ],
   "source": [
    "!pip install gensim"
   ]
  },
  {
   "cell_type": "code",
   "execution_count": 3,
   "metadata": {
    "colab": {
     "base_uri": "https://localhost:8080/"
    },
    "id": "4fHyOgYTm0cm",
    "outputId": "016e3f0d-9b0b-4a4f-c271-b02c21646e40"
   },
   "outputs": [
    {
     "name": "stderr",
     "output_type": "stream",
     "text": [
      "<ipython-input-3-17e88a8692b8>:6: TqdmDeprecationWarning: This function will be removed in tqdm==5.0.0\n",
      "Please use `tqdm.notebook.*` instead of `tqdm._tqdm_notebook.*`\n",
      "  from tqdm._tqdm_notebook import tqdm_notebook\n"
     ]
    }
   ],
   "source": [
    "import pandas as pd\n",
    "import numpy as np\n",
    "import contractions\n",
    "import nltk\n",
    "from nltk.corpus import stopwords\n",
    "from tqdm._tqdm_notebook import tqdm_notebook\n",
    "tqdm_notebook.pandas()\n",
    "from gensim.models import FastText\n",
    "#from contractions import contraction_map\n",
    "from contractions import contractions_dict\n",
    "import string,re\n",
    "from nltk.stem import WordNetLemmatizer"
   ]
  },
  {
   "cell_type": "code",
   "execution_count": 4,
   "metadata": {
    "id": "66Au9SyRbv0h"
   },
   "outputs": [],
   "source": [
    "from contractions import contractions_dict"
   ]
  },
  {
   "cell_type": "markdown",
   "metadata": {
    "id": "Hu0UqllYeiHp"
   },
   "source": [
    "## Importing the repos"
   ]
  },
  {
   "cell_type": "code",
   "execution_count": 5,
   "metadata": {
    "id": "L962ddd302u5"
   },
   "outputs": [],
   "source": [
    "df_train = pd.read_csv(\"C:\\\\Users\\\\Manju Krishna\\\\Desktop\\\\train.txt\", delimiter=';', header=None, names=['sentence','label'])\n",
    "df_test = pd.read_csv(\"C:\\\\Users\\\\Manju Krishna\\\\Desktop\\\\test.txt\", delimiter=';', header=None, names=['sentence','label'])\n"
   ]
  },
  {
   "cell_type": "code",
   "execution_count": 6,
   "metadata": {
    "id": "ejnaVOMTEpjZ"
   },
   "outputs": [],
   "source": [
    "import csv\n",
    "\n",
    "with open('C:\\\\Users\\\\Manju Krishna\\\\Desktop\\\\train.txt', 'r') as in_file:\n",
    "    stripped = (line.strip() for line in in_file)\n",
    "    lines = (line.split(\";\") for line in stripped if line)\n",
    "    with open('C:\\\\Users\\\\Manju Krishna\\\\Desktop\\\\train.csv', 'w') as out_file:\n",
    "        writer = csv.writer(out_file)\n",
    "        writer.writerow(('text', 'sentiment'))\n",
    "        writer.writerows(lines)"
   ]
  },
  {
   "cell_type": "code",
   "execution_count": 7,
   "metadata": {
    "id": "zFYnJvx9-p6T"
   },
   "outputs": [],
   "source": [
    "df_train=pd.read_csv(\"C:\\\\Users\\\\Manju Krishna\\\\Desktop\\\\train_.csv\")"
   ]
  },
  {
   "cell_type": "code",
   "execution_count": 9,
   "metadata": {
    "colab": {
     "base_uri": "https://localhost:8080/"
    },
    "id": "CgiUlleWFz7B",
    "outputId": "795aaf29-bf6c-42f1-f91e-22fc67c36119"
   },
   "outputs": [
    {
     "data": {
      "text/plain": [
       "joy         5362\n",
       "sadness     4666\n",
       "anger       2159\n",
       "fear        1937\n",
       "love        1304\n",
       "surprise     572\n",
       "Name: sentiment, dtype: int64"
      ]
     },
     "execution_count": 9,
     "metadata": {},
     "output_type": "execute_result"
    }
   ],
   "source": [
    "df_train.sentiment.value_counts()"
   ]
  },
  {
   "cell_type": "code",
   "execution_count": 10,
   "metadata": {
    "id": "u17_1WprM9Fy"
   },
   "outputs": [],
   "source": [
    "import csv\n",
    "\n",
    "with open('C:\\\\Users\\\\Manju Krishna\\\\Desktop\\\\test.txt', 'r') as in_file:\n",
    "    stripped = (line.strip() for line in in_file)\n",
    "    lines = (line.split(\";\") for line in stripped if line)\n",
    "    with open('C:\\\\Users\\\\Manju Krishna\\\\Desktop\\\\test.csv', 'w') as out_file:\n",
    "        writer = csv.writer(out_file)\n",
    "        writer.writerow(('text', 'sentiment'))\n",
    "        writer.writerows(lines)"
   ]
  },
  {
   "cell_type": "code",
   "execution_count": 11,
   "metadata": {
    "id": "ic5yIZRoNmaR"
   },
   "outputs": [],
   "source": [
    "df_test=pd.read_csv(\"C:\\\\Users\\\\Manju Krishna\\\\Desktop\\\\test.csv\")"
   ]
  },
  {
   "cell_type": "code",
   "execution_count": 14,
   "metadata": {
    "colab": {
     "base_uri": "https://localhost:8080/"
    },
    "id": "ZY9hBuqmNuG_",
    "outputId": "494cf524-30e9-4827-cdf8-02ecf2f24078"
   },
   "outputs": [
    {
     "data": {
      "text/plain": [
       "joy         695\n",
       "sadness     581\n",
       "anger       275\n",
       "fear        224\n",
       "love        159\n",
       "surprise     66\n",
       "Name: sentiment, dtype: int64"
      ]
     },
     "execution_count": 14,
     "metadata": {},
     "output_type": "execute_result"
    }
   ],
   "source": [
    "df_test.sentiment.value_counts()"
   ]
  },
  {
   "cell_type": "code",
   "execution_count": 15,
   "metadata": {
    "id": "-waNb2zF2mXD"
   },
   "outputs": [],
   "source": [
    "data = pd.concat([df_train,df_test])"
   ]
  },
  {
   "cell_type": "code",
   "execution_count": 16,
   "metadata": {
    "colab": {
     "base_uri": "https://localhost:8080/"
    },
    "id": "suWQM_Fwt1Cu",
    "outputId": "b236ee0b-a1c6-4980-e341-b849017c5c06"
   },
   "outputs": [
    {
     "data": {
      "text/plain": [
       "(18000, 2)"
      ]
     },
     "execution_count": 16,
     "metadata": {},
     "output_type": "execute_result"
    }
   ],
   "source": [
    "data.shape"
   ]
  },
  {
   "cell_type": "code",
   "execution_count": 17,
   "metadata": {
    "colab": {
     "base_uri": "https://localhost:8080/",
     "height": 424
    },
    "id": "ytOngXU4uLov",
    "outputId": "def9ad40-3c9c-42ef-a5f2-fd8f8c8a2629"
   },
   "outputs": [
    {
     "data": {
      "text/html": [
       "<div>\n",
       "<style scoped>\n",
       "    .dataframe tbody tr th:only-of-type {\n",
       "        vertical-align: middle;\n",
       "    }\n",
       "\n",
       "    .dataframe tbody tr th {\n",
       "        vertical-align: top;\n",
       "    }\n",
       "\n",
       "    .dataframe thead th {\n",
       "        text-align: right;\n",
       "    }\n",
       "</style>\n",
       "<table border=\"1\" class=\"dataframe\">\n",
       "  <thead>\n",
       "    <tr style=\"text-align: right;\">\n",
       "      <th></th>\n",
       "      <th>text</th>\n",
       "      <th>sentiment</th>\n",
       "    </tr>\n",
       "  </thead>\n",
       "  <tbody>\n",
       "    <tr>\n",
       "      <th>0</th>\n",
       "      <td>i didnt feel humiliated</td>\n",
       "      <td>sadness</td>\n",
       "    </tr>\n",
       "    <tr>\n",
       "      <th>1</th>\n",
       "      <td>i can go from feeling so hopeless to so damned...</td>\n",
       "      <td>sadness</td>\n",
       "    </tr>\n",
       "    <tr>\n",
       "      <th>2</th>\n",
       "      <td>im grabbing a minute to post i feel greedy wrong</td>\n",
       "      <td>anger</td>\n",
       "    </tr>\n",
       "    <tr>\n",
       "      <th>3</th>\n",
       "      <td>i am ever feeling nostalgic about the fireplac...</td>\n",
       "      <td>love</td>\n",
       "    </tr>\n",
       "    <tr>\n",
       "      <th>4</th>\n",
       "      <td>i am feeling grouchy</td>\n",
       "      <td>anger</td>\n",
       "    </tr>\n",
       "    <tr>\n",
       "      <th>...</th>\n",
       "      <td>...</td>\n",
       "      <td>...</td>\n",
       "    </tr>\n",
       "    <tr>\n",
       "      <th>15995</th>\n",
       "      <td>i just had a very brief time in the beanbag an...</td>\n",
       "      <td>sadness</td>\n",
       "    </tr>\n",
       "    <tr>\n",
       "      <th>15996</th>\n",
       "      <td>i am now turning and i feel pathetic that i am...</td>\n",
       "      <td>sadness</td>\n",
       "    </tr>\n",
       "    <tr>\n",
       "      <th>15997</th>\n",
       "      <td>i feel strong and good overall</td>\n",
       "      <td>joy</td>\n",
       "    </tr>\n",
       "    <tr>\n",
       "      <th>15998</th>\n",
       "      <td>i feel like this was such a rude comment and i...</td>\n",
       "      <td>anger</td>\n",
       "    </tr>\n",
       "    <tr>\n",
       "      <th>15999</th>\n",
       "      <td>i know a lot but i feel so stupid because i ca...</td>\n",
       "      <td>sadness</td>\n",
       "    </tr>\n",
       "  </tbody>\n",
       "</table>\n",
       "<p>16000 rows × 2 columns</p>\n",
       "</div>"
      ],
      "text/plain": [
       "                                                    text sentiment\n",
       "0                                i didnt feel humiliated   sadness\n",
       "1      i can go from feeling so hopeless to so damned...   sadness\n",
       "2       im grabbing a minute to post i feel greedy wrong     anger\n",
       "3      i am ever feeling nostalgic about the fireplac...      love\n",
       "4                                   i am feeling grouchy     anger\n",
       "...                                                  ...       ...\n",
       "15995  i just had a very brief time in the beanbag an...   sadness\n",
       "15996  i am now turning and i feel pathetic that i am...   sadness\n",
       "15997                     i feel strong and good overall       joy\n",
       "15998  i feel like this was such a rude comment and i...     anger\n",
       "15999  i know a lot but i feel so stupid because i ca...   sadness\n",
       "\n",
       "[16000 rows x 2 columns]"
      ]
     },
     "execution_count": 17,
     "metadata": {},
     "output_type": "execute_result"
    }
   ],
   "source": [
    "df_train"
   ]
  },
  {
   "cell_type": "code",
   "execution_count": 18,
   "metadata": {
    "colab": {
     "base_uri": "https://localhost:8080/",
     "height": 424
    },
    "id": "xO82_mC4Pl5f",
    "outputId": "f2caa9e0-a49a-4d46-fa35-3863a45fa55a"
   },
   "outputs": [
    {
     "data": {
      "text/html": [
       "<div>\n",
       "<style scoped>\n",
       "    .dataframe tbody tr th:only-of-type {\n",
       "        vertical-align: middle;\n",
       "    }\n",
       "\n",
       "    .dataframe tbody tr th {\n",
       "        vertical-align: top;\n",
       "    }\n",
       "\n",
       "    .dataframe thead th {\n",
       "        text-align: right;\n",
       "    }\n",
       "</style>\n",
       "<table border=\"1\" class=\"dataframe\">\n",
       "  <thead>\n",
       "    <tr style=\"text-align: right;\">\n",
       "      <th></th>\n",
       "      <th>text</th>\n",
       "      <th>sentiment</th>\n",
       "    </tr>\n",
       "  </thead>\n",
       "  <tbody>\n",
       "    <tr>\n",
       "      <th>0</th>\n",
       "      <td>im feeling rather rotten so im not very ambiti...</td>\n",
       "      <td>sadness</td>\n",
       "    </tr>\n",
       "    <tr>\n",
       "      <th>1</th>\n",
       "      <td>im updating my blog because i feel shitty</td>\n",
       "      <td>sadness</td>\n",
       "    </tr>\n",
       "    <tr>\n",
       "      <th>2</th>\n",
       "      <td>i never make her separate from me because i do...</td>\n",
       "      <td>sadness</td>\n",
       "    </tr>\n",
       "    <tr>\n",
       "      <th>3</th>\n",
       "      <td>i left with my bouquet of red and yellow tulip...</td>\n",
       "      <td>joy</td>\n",
       "    </tr>\n",
       "    <tr>\n",
       "      <th>4</th>\n",
       "      <td>i was feeling a little vain when i did this one</td>\n",
       "      <td>sadness</td>\n",
       "    </tr>\n",
       "    <tr>\n",
       "      <th>...</th>\n",
       "      <td>...</td>\n",
       "      <td>...</td>\n",
       "    </tr>\n",
       "    <tr>\n",
       "      <th>1995</th>\n",
       "      <td>i just keep feeling like someone is being unki...</td>\n",
       "      <td>anger</td>\n",
       "    </tr>\n",
       "    <tr>\n",
       "      <th>1996</th>\n",
       "      <td>im feeling a little cranky negative after this...</td>\n",
       "      <td>anger</td>\n",
       "    </tr>\n",
       "    <tr>\n",
       "      <th>1997</th>\n",
       "      <td>i feel that i am useful to my people and that ...</td>\n",
       "      <td>joy</td>\n",
       "    </tr>\n",
       "    <tr>\n",
       "      <th>1998</th>\n",
       "      <td>im feeling more comfortable with derby i feel ...</td>\n",
       "      <td>joy</td>\n",
       "    </tr>\n",
       "    <tr>\n",
       "      <th>1999</th>\n",
       "      <td>i feel all weird when i have to meet w people ...</td>\n",
       "      <td>fear</td>\n",
       "    </tr>\n",
       "  </tbody>\n",
       "</table>\n",
       "<p>2000 rows × 2 columns</p>\n",
       "</div>"
      ],
      "text/plain": [
       "                                                   text sentiment\n",
       "0     im feeling rather rotten so im not very ambiti...   sadness\n",
       "1             im updating my blog because i feel shitty   sadness\n",
       "2     i never make her separate from me because i do...   sadness\n",
       "3     i left with my bouquet of red and yellow tulip...       joy\n",
       "4       i was feeling a little vain when i did this one   sadness\n",
       "...                                                 ...       ...\n",
       "1995  i just keep feeling like someone is being unki...     anger\n",
       "1996  im feeling a little cranky negative after this...     anger\n",
       "1997  i feel that i am useful to my people and that ...       joy\n",
       "1998  im feeling more comfortable with derby i feel ...       joy\n",
       "1999  i feel all weird when i have to meet w people ...      fear\n",
       "\n",
       "[2000 rows x 2 columns]"
      ]
     },
     "execution_count": 18,
     "metadata": {},
     "output_type": "execute_result"
    }
   ],
   "source": [
    "df_test"
   ]
  },
  {
   "cell_type": "markdown",
   "metadata": {
    "id": "tX5J28vkurpD"
   },
   "source": [
    "Data pre-processing"
   ]
  },
  {
   "cell_type": "code",
   "execution_count": 19,
   "metadata": {
    "id": "Ds00FGE5x7AR"
   },
   "outputs": [],
   "source": [
    "df_pos = pd.read_csv(\"C:\\\\Users\\\\Manju Krishna\\\\Desktop\\\\positive-words.txt\", sep = '\\t')[37:].reset_index().drop(columns=['index'])\n",
    "df_neg = pd.read_csv(\"C:\\\\Users\\\\Manju Krishna\\\\Desktop\\\\negative-words.txt\", sep = '\\t',encoding=\"ISO-8859-1\")[36:].reset_index().drop(columns=['index'])"
   ]
  },
  {
   "cell_type": "code",
   "execution_count": 20,
   "metadata": {
    "id": "DoKTJVXJyAHz"
   },
   "outputs": [],
   "source": [
    "df_pos = df_pos.rename(columns={df_pos.columns[0]:\"words\"})\n",
    "df_neg = df_neg.rename(columns={df_neg.columns[0]:\"words\"})"
   ]
  },
  {
   "cell_type": "code",
   "execution_count": 21,
   "metadata": {
    "id": "qqR3B-NkvWwg"
   },
   "outputs": [],
   "source": [
    "def expand_text(text):\n",
    "    text = text.lower()\n",
    "    text = text.replace(\"`\",\"'\")\n",
    "    \n",
    "    #Expand Contractions\n",
    "    contraction_dict = contractions_dict\n",
    "    contraction_keys = list(contraction_dict.keys())\n",
    "    \n",
    "    for word in text.split():\n",
    "        if word in contraction_keys:\n",
    "            text = text.replace(word, contraction_dict[word])\n",
    "        else:\n",
    "            continue\n",
    "    \n",
    "    return text    "
   ]
  },
  {
   "cell_type": "code",
   "execution_count": 22,
   "metadata": {
    "id": "sVZS6G1XupMS"
   },
   "outputs": [],
   "source": [
    "def clean_text(text):\n",
    "    text = text.translate(string.punctuation)\n",
    "    text = text.lower().split()\n",
    "    \n",
    "    df_pos_words = list(df_pos.words)\n",
    "    df_neg_words = list(df_neg.words)\n",
    "    \n",
    "    positive = []\n",
    "    for i in range(0,len(df_pos_words)):\n",
    "        positive.append(df_pos_words[i].lower().replace(\" \",\"\"))\n",
    "        \n",
    "    negative = []\n",
    "    for i in range(0,len(df_neg_words)):\n",
    "        negative.append(df_neg_words[i].lower().replace(\" \",\"\"))\n",
    "        \n",
    "    pos_set = set(positive)\n",
    "    neg_set = set(negative)\n",
    "    \n",
    "    keywords = set([\"above\",\"and\",\"below\",\"not\"])\n",
    "    \n",
    "    keywords.update(pos_set)\n",
    "    keywords.update(neg_set)\n",
    "    \n",
    "    stopwords_set = set(stopwords.words('english'))\n",
    "    stops = stopwords_set - keywords\n",
    "    \n",
    "    \n",
    "    text = [w for w in text if not w in stops]\n",
    "    text = \" \".join(text)\n",
    "    \n",
    "    text = re.sub(r\"[^A-Za-z0-9^,!./\\'+-=]\",\" \",text)\n",
    "    text = re.sub(r\"what's\",\"what is\",text)\n",
    "    text = re.sub(r\"\\'s\",\" \",text)\n",
    "    text = re.sub(r\"\\'ve\",\" have \",text)\n",
    "    text = re.sub(r\"n't\",\" not \",text)\n",
    "    text = re.sub(r\"i'm\",\" i am \",text)\n",
    "    text = re.sub(r\"\\'re\",\" are \",text)\n",
    "    text = re.sub(r\"\\'d\", \" would \",text)\n",
    "    text = re.sub(r\"\\'ll\", \" will \",text)\n",
    "    text = re.sub(r\",\",\" \",text)\n",
    "    text = re.sub(r\"\\.\",\" \",text)\n",
    "    text = re.sub(r\"!\",\" ! \",text)\n",
    "    text = re.sub(r\"\\/\",\" \",text)\n",
    "    text = re.sub(r\"\\^\",\" ^ \",text)\n",
    "    text = re.sub(r\"\\+\",\" + \",text)\n",
    "    text = re.sub(r\"\\-\",\" - \",text)\n",
    "    text = re.sub(r\"\\=\",\" = \",text)\n",
    "    text = re.sub(r\"'\",\" \",text)\n",
    "    text = re.sub(r\"(\\d+)(k)\",r\"\\g<1>000\",text)\n",
    "    text = re.sub(r\":\", \" : \",text)\n",
    "    text = re.sub(r\" e g \",\" eg \",text)\n",
    "    text = re.sub(r\"b g \",\" bg \",text)\n",
    "    text = re.sub(r\" u s \",\" american \",text)\n",
    "    text = re.sub(r\"\\0s\",\"0\",text)\n",
    "    text = re.sub(r\"e - mail\",\"email\",text)\n",
    "    text = re.sub(r\"\\s{2,}\",\" \",text)\n",
    "    \n",
    "    text = text.split()\n",
    "    lemmatizer = WordNetLemmatizer()\n",
    "    lemmatized_words = [lemmatizer.lemmatize(word) for word in text]\n",
    "    text = \" \".join(lemmatized_words)\n",
    "    \n",
    "    return text"
   ]
  },
  {
   "cell_type": "code",
   "execution_count": 23,
   "metadata": {
    "id": "SlVhov_JnLlY"
   },
   "outputs": [],
   "source": [
    "final_df = pd.concat([df_train,df_test])"
   ]
  },
  {
   "cell_type": "code",
   "execution_count": 24,
   "metadata": {
    "id": "GY6NP_DmnNWh"
   },
   "outputs": [],
   "source": [
    "final_df.rename(columns = {'sentence':'text', 'label':'sentiment'}, inplace = True)"
   ]
  },
  {
   "cell_type": "code",
   "execution_count": 25,
   "metadata": {
    "colab": {
     "base_uri": "https://localhost:8080/",
     "height": 424
    },
    "id": "ntIJWqXvnQNB",
    "outputId": "c4d65b6f-c01a-4d89-a115-498f32bbea11"
   },
   "outputs": [
    {
     "data": {
      "text/html": [
       "<div>\n",
       "<style scoped>\n",
       "    .dataframe tbody tr th:only-of-type {\n",
       "        vertical-align: middle;\n",
       "    }\n",
       "\n",
       "    .dataframe tbody tr th {\n",
       "        vertical-align: top;\n",
       "    }\n",
       "\n",
       "    .dataframe thead th {\n",
       "        text-align: right;\n",
       "    }\n",
       "</style>\n",
       "<table border=\"1\" class=\"dataframe\">\n",
       "  <thead>\n",
       "    <tr style=\"text-align: right;\">\n",
       "      <th></th>\n",
       "      <th>text</th>\n",
       "      <th>sentiment</th>\n",
       "    </tr>\n",
       "  </thead>\n",
       "  <tbody>\n",
       "    <tr>\n",
       "      <th>0</th>\n",
       "      <td>i didnt feel humiliated</td>\n",
       "      <td>sadness</td>\n",
       "    </tr>\n",
       "    <tr>\n",
       "      <th>1</th>\n",
       "      <td>i can go from feeling so hopeless to so damned...</td>\n",
       "      <td>sadness</td>\n",
       "    </tr>\n",
       "    <tr>\n",
       "      <th>2</th>\n",
       "      <td>im grabbing a minute to post i feel greedy wrong</td>\n",
       "      <td>anger</td>\n",
       "    </tr>\n",
       "    <tr>\n",
       "      <th>3</th>\n",
       "      <td>i am ever feeling nostalgic about the fireplac...</td>\n",
       "      <td>love</td>\n",
       "    </tr>\n",
       "    <tr>\n",
       "      <th>4</th>\n",
       "      <td>i am feeling grouchy</td>\n",
       "      <td>anger</td>\n",
       "    </tr>\n",
       "    <tr>\n",
       "      <th>...</th>\n",
       "      <td>...</td>\n",
       "      <td>...</td>\n",
       "    </tr>\n",
       "    <tr>\n",
       "      <th>1995</th>\n",
       "      <td>i just keep feeling like someone is being unki...</td>\n",
       "      <td>anger</td>\n",
       "    </tr>\n",
       "    <tr>\n",
       "      <th>1996</th>\n",
       "      <td>im feeling a little cranky negative after this...</td>\n",
       "      <td>anger</td>\n",
       "    </tr>\n",
       "    <tr>\n",
       "      <th>1997</th>\n",
       "      <td>i feel that i am useful to my people and that ...</td>\n",
       "      <td>joy</td>\n",
       "    </tr>\n",
       "    <tr>\n",
       "      <th>1998</th>\n",
       "      <td>im feeling more comfortable with derby i feel ...</td>\n",
       "      <td>joy</td>\n",
       "    </tr>\n",
       "    <tr>\n",
       "      <th>1999</th>\n",
       "      <td>i feel all weird when i have to meet w people ...</td>\n",
       "      <td>fear</td>\n",
       "    </tr>\n",
       "  </tbody>\n",
       "</table>\n",
       "<p>18000 rows × 2 columns</p>\n",
       "</div>"
      ],
      "text/plain": [
       "                                                   text sentiment\n",
       "0                               i didnt feel humiliated   sadness\n",
       "1     i can go from feeling so hopeless to so damned...   sadness\n",
       "2      im grabbing a minute to post i feel greedy wrong     anger\n",
       "3     i am ever feeling nostalgic about the fireplac...      love\n",
       "4                                  i am feeling grouchy     anger\n",
       "...                                                 ...       ...\n",
       "1995  i just keep feeling like someone is being unki...     anger\n",
       "1996  im feeling a little cranky negative after this...     anger\n",
       "1997  i feel that i am useful to my people and that ...       joy\n",
       "1998  im feeling more comfortable with derby i feel ...       joy\n",
       "1999  i feel all weird when i have to meet w people ...      fear\n",
       "\n",
       "[18000 rows x 2 columns]"
      ]
     },
     "execution_count": 25,
     "metadata": {},
     "output_type": "execute_result"
    }
   ],
   "source": [
    "final_df"
   ]
  },
  {
   "cell_type": "code",
   "execution_count": 26,
   "metadata": {
    "colab": {
     "base_uri": "https://localhost:8080/",
     "height": 49,
     "referenced_widgets": [
      "5022f3d5f7e5498ea4dbf0d40b72162b",
      "e71e5fa6910446c2988228ac3f6eec12",
      "5cf154599c75498db9693886e30c0ac6",
      "4bb20a2498734732a1e598819ee9d549",
      "826dd7c9d05c46c98808072e52ade234",
      "d5748a6467464ce1aeefdc7187a0eefb",
      "e2de9bf7f8ae41f08e5b04b2512b1754",
      "bb4ab2cfef5340aa969c963c6ad7e842",
      "ebb58ae2d11d4d799bfb0b9b1454e8e0",
      "dff64b3abca742a3aa5a73b015afc5e3",
      "421b3b728e3640018a6fa8d09aae453b"
     ]
    },
    "id": "RZ5LIsdwvemM",
    "outputId": "f0a4f036-dfe6-48f0-98c4-508ac766b786"
   },
   "outputs": [
    {
     "data": {
      "application/vnd.jupyter.widget-view+json": {
       "model_id": "34721a41e1de431fab2d953b1046607d",
       "version_major": 2,
       "version_minor": 0
      },
      "text/plain": [
       "  0%|          | 0/18000 [00:00<?, ?it/s]"
      ]
     },
     "metadata": {},
     "output_type": "display_data"
    }
   ],
   "source": [
    "final_df['text'] =final_df['text'].progress_apply(lambda x : expand_text(x))"
   ]
  },
  {
   "cell_type": "code",
   "execution_count": 27,
   "metadata": {
    "colab": {
     "base_uri": "https://localhost:8080/"
    },
    "id": "3blCSPgxvkYS",
    "outputId": "56a95e89-f325-47af-be76-2c8daacbcc59"
   },
   "outputs": [
    {
     "name": "stderr",
     "output_type": "stream",
     "text": [
      "[nltk_data] Downloading package stopwords to C:\\Users\\Manju\n",
      "[nltk_data]     Krishna\\AppData\\Roaming\\nltk_data...\n",
      "[nltk_data]   Package stopwords is already up-to-date!\n",
      "[nltk_data] Downloading package wordnet to C:\\Users\\Manju\n",
      "[nltk_data]     Krishna\\AppData\\Roaming\\nltk_data...\n",
      "[nltk_data]   Package wordnet is already up-to-date!\n"
     ]
    },
    {
     "data": {
      "text/plain": [
       "True"
      ]
     },
     "execution_count": 27,
     "metadata": {},
     "output_type": "execute_result"
    }
   ],
   "source": [
    "nltk.download('stopwords')\n",
    "nltk.download('wordnet')"
   ]
  },
  {
   "cell_type": "code",
   "execution_count": 28,
   "metadata": {
    "colab": {
     "base_uri": "https://localhost:8080/",
     "height": 49,
     "referenced_widgets": [
      "37e83633c68b411a8aabefa8b6847a2e",
      "78ded9a8bf7e4ff5bc083b5577e7ac9f",
      "9fbd4879d81043be8668ed1a2d62bdf7",
      "f3a5bb9467d54fe09cd894113f5e0b5e",
      "8b7a031c3a8140029142e8a2df426497",
      "0d74e05562984dda9a4cec1eddd964c9",
      "0e09082329d14160a5f4bc8a4173dc60",
      "641119b910cd467d8a73f9446826b7c9",
      "73449d669d264244b728a5eb9a16c9ca",
      "fd252dff706746ac85201178080eff5c",
      "03843b5e907f4a9e900054b8bec228a4"
     ]
    },
    "id": "QNOl83cockNI",
    "outputId": "593c1d7e-652b-454c-f522-61e41665a7ce"
   },
   "outputs": [
    {
     "data": {
      "application/vnd.jupyter.widget-view+json": {
       "model_id": "2576e7e2bba147a58dc9646043f822cf",
       "version_major": 2,
       "version_minor": 0
      },
      "text/plain": [
       "  0%|          | 0/18000 [00:00<?, ?it/s]"
      ]
     },
     "metadata": {},
     "output_type": "display_data"
    }
   ],
   "source": [
    "final_df['text'] =final_df['text'].progress_apply(lambda x: clean_text(x))"
   ]
  },
  {
   "cell_type": "code",
   "execution_count": 29,
   "metadata": {
    "colab": {
     "base_uri": "https://localhost:8080/"
    },
    "id": "o-cQGqZmx2Eh",
    "outputId": "933dc068-6f76-4baa-e100-818574d2b25f"
   },
   "outputs": [
    {
     "data": {
      "text/plain": [
       "joy         6057\n",
       "sadness     5247\n",
       "anger       2434\n",
       "fear        2161\n",
       "love        1463\n",
       "surprise     638\n",
       "Name: sentiment, dtype: int64"
      ]
     },
     "execution_count": 29,
     "metadata": {},
     "output_type": "execute_result"
    }
   ],
   "source": [
    "final_df.sentiment.value_counts()"
   ]
  },
  {
   "cell_type": "code",
   "execution_count": 31,
   "metadata": {
    "colab": {
     "base_uri": "https://localhost:8080/",
     "height": 530
    },
    "id": "m9XUbuWOnYTG",
    "outputId": "01536344-8eca-42df-fd62-115b34501c39"
   },
   "outputs": [
    {
     "name": "stderr",
     "output_type": "stream",
     "text": [
      "C:\\Users\\Manju Krishna\\anaconda3\\lib\\site-packages\\seaborn\\categorical.py:3714: UserWarning: The `factorplot` function has been renamed to `catplot`. The original name will be removed in a future release. Please update your code. Note that the default `kind` in `factorplot` (`'point'`) has changed `'strip'` in `catplot`.\n",
      "  warnings.warn(msg)\n",
      "C:\\Users\\Manju Krishna\\anaconda3\\lib\\site-packages\\seaborn\\categorical.py:3720: UserWarning: The `size` parameter has been renamed to `height`; please update your code.\n",
      "  warnings.warn(msg, UserWarning)\n"
     ]
    },
    {
     "data": {
      "image/png": "[encoded data removed]",
      "text/plain": [
       "<Figure size 648x432 with 1 Axes>"
      ]
     },
     "metadata": {
      "needs_background": "light"
     },
     "output_type": "display_data"
    }
   ],
   "source": [
    "import matplotlib.pyplot as plt\n",
    "import seaborn as sns\n",
    "sns.factorplot(x=\"sentiment\", data=final_df, kind=\"count\", size=6, aspect=1.5, palette=\"GnBu_r\")\n",
    "plt.show();"
   ]
  },
  {
   "cell_type": "code",
   "execution_count": 32,
   "metadata": {
    "id": "CRfQw5Dq0V7R"
   },
   "outputs": [],
   "source": [
    "#Feature encoding\n",
    "from sklearn.preprocessing import LabelEncoder\n",
    "lbl_enc = LabelEncoder()"
   ]
  },
  {
   "cell_type": "code",
   "execution_count": 34,
   "metadata": {
    "id": "oW6-zCoV0b9Z"
   },
   "outputs": [],
   "source": [
    "y = lbl_enc.fit_transform(final_df.sentiment.values) #Label encoding "
   ]
  },
  {
   "cell_type": "code",
   "execution_count": 35,
   "metadata": {
    "id": "DqaLX_5r0epx"
   },
   "outputs": [],
   "source": [
    "#For building a dataframe for mapping emotions to label number\n",
    "y_series = pd.Series(y)\n",
    "emo_cols_series = pd.Series(lbl_enc.inverse_transform(y))  #inverse transform to find  mapped emotions"
   ]
  },
  {
   "cell_type": "code",
   "execution_count": 36,
   "metadata": {
    "id": "BgGZrify0hVX"
   },
   "outputs": [],
   "source": [
    "emo_df = pd.DataFrame()\n",
    "emo_df = pd.concat([emo_cols_series,y_series],axis=1)\n",
    "emo_df.columns=['emotion','Label_mapped']"
   ]
  },
  {
   "cell_type": "code",
   "execution_count": 37,
   "metadata": {
    "colab": {
     "base_uri": "https://localhost:8080/",
     "height": 237
    },
    "id": "h0uDHi2y0kwi",
    "outputId": "6736c94d-6d88-4d75-9a7b-0e876254a2b6"
   },
   "outputs": [
    {
     "data": {
      "text/html": [
       "<div>\n",
       "<style scoped>\n",
       "    .dataframe tbody tr th:only-of-type {\n",
       "        vertical-align: middle;\n",
       "    }\n",
       "\n",
       "    .dataframe tbody tr th {\n",
       "        vertical-align: top;\n",
       "    }\n",
       "\n",
       "    .dataframe thead th {\n",
       "        text-align: right;\n",
       "    }\n",
       "</style>\n",
       "<table border=\"1\" class=\"dataframe\">\n",
       "  <thead>\n",
       "    <tr style=\"text-align: right;\">\n",
       "      <th></th>\n",
       "      <th>emotion</th>\n",
       "      <th>Label_mapped</th>\n",
       "    </tr>\n",
       "  </thead>\n",
       "  <tbody>\n",
       "    <tr>\n",
       "      <th>2</th>\n",
       "      <td>anger</td>\n",
       "      <td>0</td>\n",
       "    </tr>\n",
       "    <tr>\n",
       "      <th>7</th>\n",
       "      <td>fear</td>\n",
       "      <td>1</td>\n",
       "    </tr>\n",
       "    <tr>\n",
       "      <th>8</th>\n",
       "      <td>joy</td>\n",
       "      <td>2</td>\n",
       "    </tr>\n",
       "    <tr>\n",
       "      <th>3</th>\n",
       "      <td>love</td>\n",
       "      <td>3</td>\n",
       "    </tr>\n",
       "    <tr>\n",
       "      <th>0</th>\n",
       "      <td>sadness</td>\n",
       "      <td>4</td>\n",
       "    </tr>\n",
       "    <tr>\n",
       "      <th>6</th>\n",
       "      <td>surprise</td>\n",
       "      <td>5</td>\n",
       "    </tr>\n",
       "  </tbody>\n",
       "</table>\n",
       "</div>"
      ],
      "text/plain": [
       "    emotion  Label_mapped\n",
       "2     anger             0\n",
       "7      fear             1\n",
       "8       joy             2\n",
       "3      love             3\n",
       "0   sadness             4\n",
       "6  surprise             5"
      ]
     },
     "execution_count": 37,
     "metadata": {},
     "output_type": "execute_result"
    }
   ],
   "source": [
    "emo_df = emo_df.drop_duplicates()\n",
    "emo_df.sort_values(by=['Label_mapped'],ascending= True)"
   ]
  },
  {
   "cell_type": "code",
   "execution_count": 38,
   "metadata": {
    "id": "R_XdEHIX0nQa"
   },
   "outputs": [],
   "source": [
    "#Train test split \n",
    "from sklearn.model_selection import train_test_split\n",
    "from sklearn.feature_extraction.text import CountVectorizer\n",
    "from sklearn.feature_extraction.text import TfidfTransformer\n",
    "from sklearn.naive_bayes import MultinomialNB\n",
    "\n",
    "X_train,X_val,y_train,y_val = train_test_split(final_df.text.values,final_df.sentiment.values,random_state=42, test_size=0.1, shuffle=True)"
   ]
  },
  {
   "cell_type": "code",
   "execution_count": 39,
   "metadata": {
    "id": "ooBgUTxF0qXh"
   },
   "outputs": [],
   "source": [
    "#Extracting Tf-idf features\n",
    "\n",
    "from sklearn.feature_extraction.text import TfidfVectorizer\n",
    "tfidf = TfidfVectorizer(min_df=3,  max_features=None, \n",
    "            strip_accents='unicode', analyzer='word',token_pattern=r'\\w{1,}',\n",
    "            ngram_range=(1, 3), use_idf=1,smooth_idf=1,sublinear_tf=1)"
   ]
  },
  {
   "cell_type": "code",
   "execution_count": 40,
   "metadata": {
    "id": "neISwZ2t0t32"
   },
   "outputs": [],
   "source": [
    "#TF-idf approach\n",
    "tfidf.fit(list(X_train) + list(X_val))\n",
    "X_train_tfidf = tfidf.transform(X_train)\n",
    "X_val_tfidf = tfidf.transform(X_val)"
   ]
  },
  {
   "cell_type": "code",
   "execution_count": 41,
   "metadata": {
    "colab": {
     "base_uri": "https://localhost:8080/"
    },
    "id": "GO7EhX3P0wbi",
    "outputId": "5b75e780-706f-474c-b723-d54674909952"
   },
   "outputs": [
    {
     "name": "stdout",
     "output_type": "stream",
     "text": [
      "naive bayes tfidf accuracy 0.7566666666666667\n"
     ]
    }
   ],
   "source": [
    "from sklearn.metrics import accuracy_score\n",
    "from sklearn.naive_bayes import MultinomialNB\n",
    "nb = MultinomialNB()\n",
    "nb.fit(X_train_tfidf, y_train)\n",
    "y_pred = nb.predict(X_val_tfidf)\n",
    "print('naive bayes tfidf accuracy %s' % accuracy_score(y_pred, y_val))"
   ]
  },
  {
   "cell_type": "code",
   "execution_count": 42,
   "metadata": {
    "colab": {
     "base_uri": "https://localhost:8080/"
    },
    "id": "0yCPnRFMdolO",
    "outputId": "9d206c4c-8bb1-4e6d-ac19-a36083eda00c"
   },
   "outputs": [
    {
     "name": "stdout",
     "output_type": "stream",
     "text": [
      "Random forest tfidf accuracy 0.8788888888888889\n"
     ]
    }
   ],
   "source": [
    "from sklearn.ensemble import RandomForestClassifier\n",
    "rf = RandomForestClassifier(n_estimators=500)\n",
    "rf.fit(X_train_tfidf,y_train)\n",
    "y_pred2 = rf.predict(X_val_tfidf)\n",
    "print('Random forest tfidf accuracy %s' % accuracy_score(y_pred2, y_val))"
   ]
  },
  {
   "cell_type": "code",
   "execution_count": 43,
   "metadata": {
    "colab": {
     "base_uri": "https://localhost:8080/"
    },
    "id": "bBWx06X-dutd",
    "outputId": "d4705a40-b7ea-4b7a-f5b2-2a8d6a974649"
   },
   "outputs": [
    {
     "name": "stdout",
     "output_type": "stream",
     "text": [
      "SGD using tfidf accuracy 0.8816666666666667\n"
     ]
    }
   ],
   "source": [
    "from sklearn.linear_model import SGDClassifier\n",
    "lsvm = SGDClassifier(alpha=0.001, random_state=5, max_iter=15, tol=None)\n",
    "lsvm.fit(X_train_tfidf, y_train)\n",
    "y_pred_sgd = lsvm.predict(X_val_tfidf)\n",
    "print('SGD using tfidf accuracy %s' % accuracy_score(y_pred_sgd, y_val))"
   ]
  },
  {
   "cell_type": "code",
   "execution_count": 44,
   "metadata": {
    "colab": {
     "base_uri": "https://localhost:8080/"
    },
    "id": "IxdZFbcVdxde",
    "outputId": "42a699f2-b9cb-4bba-9af4-433bd4b9b271"
   },
   "outputs": [
    {
     "name": "stdout",
     "output_type": "stream",
     "text": [
      "Accuracy with Logistic Regression and Tf-idf is 0.8705555555555555\n"
     ]
    },
    {
     "name": "stderr",
     "output_type": "stream",
     "text": [
      "C:\\Users\\Manju Krishna\\anaconda3\\lib\\site-packages\\sklearn\\linear_model\\_logistic.py:763: ConvergenceWarning: lbfgs failed to converge (status=1):\n",
      "STOP: TOTAL NO. of ITERATIONS REACHED LIMIT.\n",
      "\n",
      "Increase the number of iterations (max_iter) or scale the data as shown in:\n",
      "    https://scikit-learn.org/stable/modules/preprocessing.html\n",
      "Please also refer to the documentation for alternative solver options:\n",
      "    https://scikit-learn.org/stable/modules/linear_model.html#logistic-regression\n",
      "  n_iter_i = _check_optimize_result(\n"
     ]
    }
   ],
   "source": [
    "from sklearn.linear_model import LogisticRegression\n",
    "lr = LogisticRegression(C=1.0)\n",
    "lr.fit(X_train_tfidf,y_train)\n",
    "y_pred = lr.predict(X_val_tfidf)\n",
    "print('Accuracy with Logistic Regression and Tf-idf is {}'.format(accuracy_score(y_pred,y_val)))"
   ]
  },
  {
   "cell_type": "code",
   "execution_count": 45,
   "metadata": {
    "colab": {
     "base_uri": "https://localhost:8080/"
    },
    "id": "q1rZ0Uiaf0Mz",
    "outputId": "c1c558fd-a8c5-4857-cbd8-e7dc69ffe056"
   },
   "outputs": [
    {
     "data": {
      "text/plain": [
       "CountVectorizer(ngram_range=(1, 3), token_pattern='\\\\w{1,}')"
      ]
     },
     "execution_count": 45,
     "metadata": {},
     "output_type": "execute_result"
    }
   ],
   "source": [
    "#Count Vector approach\n",
    "from sklearn.feature_extraction.text import CountVectorizer\n",
    "count_vec = CountVectorizer(analyzer='word',token_pattern=r'\\w{1,}',\n",
    "            ngram_range=(1, 3))\n",
    "count_vec.fit(list(X_train) + list(X_val))"
   ]
  },
  {
   "cell_type": "code",
   "execution_count": 46,
   "metadata": {
    "id": "JvSRjRvFf3Nh"
   },
   "outputs": [],
   "source": [
    "X_train_count_vec = count_vec.transform(X_train)\n",
    "X_val_count_vec = count_vec.transform(X_val)"
   ]
  },
  {
   "cell_type": "code",
   "execution_count": 47,
   "metadata": {
    "colab": {
     "base_uri": "https://localhost:8080/"
    },
    "id": "0EtXSTTOdzU-",
    "outputId": "e907f607-a629-43f1-b2af-2e55f83ccee9"
   },
   "outputs": [
    {
     "name": "stdout",
     "output_type": "stream",
     "text": [
      "naive bayes count_vec accuracy 0.7938888888888889\n"
     ]
    }
   ],
   "source": [
    "#Using Countvec for model\n",
    "\n",
    "from sklearn.metrics import accuracy_score\n",
    "from sklearn.naive_bayes import MultinomialNB\n",
    "nb = MultinomialNB()\n",
    "nb.fit(X_train_count_vec, y_train)\n",
    "y_pred_nb = nb.predict(X_val_count_vec)\n",
    "print('naive bayes count_vec accuracy %s' % accuracy_score(y_pred_nb, y_val))"
   ]
  },
  {
   "cell_type": "code",
   "execution_count": 48,
   "metadata": {
    "id": "lnvKt-Jxhhfa"
   },
   "outputs": [],
   "source": [
    "from sklearn.metrics import classification_report"
   ]
  },
  {
   "cell_type": "code",
   "execution_count": 49,
   "metadata": {
    "colab": {
     "base_uri": "https://localhost:8080/"
    },
    "id": "74HfmsTKRjq8",
    "outputId": "cdf0a14a-469e-4897-c9fc-a0e6aa39ea93"
   },
   "outputs": [
    {
     "name": "stdout",
     "output_type": "stream",
     "text": [
      "              precision    recall  f1-score   support\n",
      "\n",
      "       anger       0.65      0.90      0.75       180\n",
      "        fear       0.62      0.83      0.71       145\n",
      "         joy       0.95      0.78      0.86       710\n",
      "        love       0.37      0.85      0.51        67\n",
      "     sadness       0.97      0.76      0.85       691\n",
      "    surprise       0.09      0.86      0.16         7\n",
      "\n",
      "    accuracy                           0.79      1800\n",
      "   macro avg       0.61      0.83      0.64      1800\n",
      "weighted avg       0.87      0.79      0.82      1800\n",
      "\n"
     ]
    }
   ],
   "source": [
    "print(classification_report(y_pred_nb,y_val))"
   ]
  },
  {
   "cell_type": "code",
   "execution_count": 50,
   "metadata": {
    "colab": {
     "base_uri": "https://localhost:8080/"
    },
    "id": "12ens097d06P",
    "outputId": "70106536-0897-4611-db1d-2d817f68ddec"
   },
   "outputs": [
    {
     "name": "stdout",
     "output_type": "stream",
     "text": [
      "svm using countvec accuracy 0.89\n"
     ]
    }
   ],
   "source": [
    "from sklearn.linear_model import SGDClassifier\n",
    "lsvm = SGDClassifier()\n",
    "lsvm.fit(X_train_count_vec, y_train)\n",
    "y_pred_lsvm= lsvm.predict(X_val_count_vec)\n",
    "print('svm using countvec accuracy %s' % accuracy_score(y_pred_lsvm, y_val))"
   ]
  },
  {
   "cell_type": "code",
   "execution_count": 51,
   "metadata": {
    "colab": {
     "base_uri": "https://localhost:8080/"
    },
    "id": "53khJ1XvRbK8",
    "outputId": "48332550-9502-4639-c7bc-4ad44bf4cad0"
   },
   "outputs": [
    {
     "name": "stdout",
     "output_type": "stream",
     "text": [
      "              precision    recall  f1-score   support\n",
      "\n",
      "       anger       0.87      0.93      0.90       235\n",
      "        fear       0.81      0.86      0.84       183\n",
      "         joy       0.94      0.88      0.91       631\n",
      "        love       0.75      0.82      0.79       142\n",
      "     sadness       0.94      0.92      0.93       556\n",
      "    surprise       0.67      0.83      0.74        53\n",
      "\n",
      "    accuracy                           0.89      1800\n",
      "   macro avg       0.83      0.87      0.85      1800\n",
      "weighted avg       0.89      0.89      0.89      1800\n",
      "\n"
     ]
    }
   ],
   "source": [
    "print(classification_report(y_pred_lsvm,y_val))"
   ]
  },
  {
   "cell_type": "code",
   "execution_count": 52,
   "metadata": {
    "colab": {
     "background_save": true
    },
    "id": "2ng32BmH3d0m"
   },
   "outputs": [
    {
     "name": "stdout",
     "output_type": "stream",
     "text": [
      "Random forest tfidf accuracy 0.8983333333333333\n"
     ]
    }
   ],
   "source": [
    "from sklearn.ensemble import RandomForestClassifier\n",
    "rf = RandomForestClassifier(n_estimators=500)\n",
    "rf.fit(X_train_count_vec,y_train)\n",
    "y_pred2_rf = rf.predict(X_val_count_vec)\n",
    "print('Random forest tfidf accuracy %s' % accuracy_score(y_pred2_rf, y_val))"
   ]
  },
  {
   "cell_type": "code",
   "execution_count": 53,
   "metadata": {
    "id": "4T5HxBt_3xd7"
   },
   "outputs": [
    {
     "name": "stdout",
     "output_type": "stream",
     "text": [
      "              precision    recall  f1-score   support\n",
      "\n",
      "       anger       0.91      0.92      0.91       247\n",
      "        fear       0.80      0.89      0.85       175\n",
      "         joy       0.95      0.88      0.91       634\n",
      "        love       0.71      0.82      0.76       134\n",
      "     sadness       0.95      0.94      0.95       554\n",
      "    surprise       0.68      0.80      0.74        56\n",
      "\n",
      "    accuracy                           0.90      1800\n",
      "   macro avg       0.83      0.88      0.85      1800\n",
      "weighted avg       0.90      0.90      0.90      1800\n",
      "\n"
     ]
    }
   ],
   "source": [
    "print(classification_report(y_pred2_rf,y_val))"
   ]
  },
  {
   "cell_type": "code",
   "execution_count": 54,
   "metadata": {
    "colab": {
     "base_uri": "https://localhost:8080/"
    },
    "id": "ZJIUbaw7d2Xe",
    "outputId": "4de222b4-f95e-49ec-8083-a2df3a88bbb9"
   },
   "outputs": [
    {
     "name": "stderr",
     "output_type": "stream",
     "text": [
      "C:\\Users\\Manju Krishna\\anaconda3\\lib\\site-packages\\sklearn\\linear_model\\_logistic.py:763: ConvergenceWarning: lbfgs failed to converge (status=1):\n",
      "STOP: TOTAL NO. of ITERATIONS REACHED LIMIT.\n",
      "\n",
      "Increase the number of iterations (max_iter) or scale the data as shown in:\n",
      "    https://scikit-learn.org/stable/modules/preprocessing.html\n",
      "Please also refer to the documentation for alternative solver options:\n",
      "    https://scikit-learn.org/stable/modules/linear_model.html#logistic-regression\n",
      "  n_iter_i = _check_optimize_result(\n"
     ]
    },
    {
     "name": "stdout",
     "output_type": "stream",
     "text": [
      "Accuracy with Logistic Regression and CountVec is 0.8888888888888888\n"
     ]
    }
   ],
   "source": [
    "from sklearn.linear_model import LogisticRegression\n",
    "lr = LogisticRegression(C=1.0)\n",
    "lr.fit(X_train_count_vec,y_train)\n",
    "y_pred_lr = lr.predict(X_val_count_vec)\n",
    "print('Accuracy with Logistic Regression and CountVec is {}'.format(accuracy_score(y_pred_lr,y_val)))"
   ]
  },
  {
   "cell_type": "code",
   "execution_count": 55,
   "metadata": {
    "colab": {
     "base_uri": "https://localhost:8080/"
    },
    "id": "loPAOf-tRV0V",
    "outputId": "4f5a7463-010a-409a-8ca5-82b00c5b20f5"
   },
   "outputs": [
    {
     "name": "stdout",
     "output_type": "stream",
     "text": [
      "              precision    recall  f1-score   support\n",
      "\n",
      "       anger       0.87      0.93      0.90       233\n",
      "        fear       0.82      0.84      0.83       190\n",
      "         joy       0.94      0.88      0.91       623\n",
      "        love       0.74      0.80      0.77       142\n",
      "     sadness       0.95      0.92      0.93       564\n",
      "    surprise       0.64      0.88      0.74        48\n",
      "\n",
      "    accuracy                           0.89      1800\n",
      "   macro avg       0.82      0.87      0.85      1800\n",
      "weighted avg       0.89      0.89      0.89      1800\n",
      "\n"
     ]
    }
   ],
   "source": [
    "print(classification_report(y_pred_lr,y_val))"
   ]
  },
  {
   "cell_type": "markdown",
   "metadata": {
    "id": "Fas2Xrbfzdmq"
   },
   "source": [
    "overall emotion prediction for a given text"
   ]
  },
  {
   "cell_type": "code",
   "execution_count": 56,
   "metadata": {
    "id": "GeBKNIIyd6W-"
   },
   "outputs": [],
   "source": [
    "text= pd.DataFrame([\"For instance, giving a kiss to your younger sibling daily after waking up in the morning and showing him how much you love them. For some happiness means loving life and seeing others happy. While some finds happiness in writing stories. Some conquer happiness in being simple yet the best person they can ever be. Everyone has their own unique way to feel happy by finding things that they never expected to find.\", # happy\n",
    "        \"Love is the key to happiness. We all want to lead a happy life. People look around for happiness in power, fashion, wealth, drugs etc. But these things can only give temporary pleasures. The power of love can create miracles. Love can create unity among nations and its citizens. Love is the most beautiful feeling in the world. Love has given different meaning by different people depending upon how they have experienced this wonderful feeling.\", # love\n",
    "        \"One day I was studying in my room when, all of a sudden, i heard hot words being exchanged between two persons in the street. I paid no attention, thinking it would be a minor quarrel but soon I heard the voices of a large number of people. I peeped from the window and saw that there was a street quarrel. I went downstairs and reached the spot in the twinkling of an eyes. I was at my wits end on seeing that both of them had come to blows. The people were standing around them and enjoying their quarrel but none tried to pacify them.\", # sad\n",
    "        \"I am so angry at you!!!!!\", # anger\n",
    "        \"you ve hit a new low with a danger of blm fascist slogan please stop it before too late stop\", # anger\n",
    "        \"I love my doggg\", # love\n",
    "        \"I think i'm gonna be sick :'‑(\", # sad\n",
    "        \"I hate you so much\", # anger\n",
    "        \"I'm at work\", # neutral\n",
    "        \"@TheTombert i was watching Harpers Island, lol... there was no vodka involved\", # neutral\n",
    "        \"sometimes i wish things could go back to the way they were the beginning of last summer\", # sad\n",
    "        \"it's your 18th birthday finally!!! yippeeeee\", # happy\n",
    "        \"still waiting in line\", # neutral\n",
    "        \"aarrgghh - fu*k.....a hose has leaked water all over the new floating floor\", # anger\n",
    "        \"that b*tch is so ugly\", # anger\n",
    "        \"oh no he is hospitalised!!!\", # sad\n",
    "       ])\n",
    "\n",
    "text_count = count_vec.transform(text[0])"
   ]
  },
  {
   "cell_type": "code",
   "execution_count": 57,
   "metadata": {
    "colab": {
     "base_uri": "https://localhost:8080/"
    },
    "id": "ZcU3pDowxEOr",
    "outputId": "681e5a15-3e35-4b10-b290-ff6d3f9fa2a6"
   },
   "outputs": [
    {
     "name": "stdout",
     "output_type": "stream",
     "text": [
      "['joy' 'joy' 'anger' 'anger' 'sadness' 'joy' 'anger' 'sadness' 'joy' 'joy'\n",
      " 'joy' 'joy' 'joy' 'joy' 'sadness' 'joy']\n"
     ]
    },
    {
     "data": {
      "text/plain": [
       "0     For instance, giving a kiss to your younger si...\n",
       "1     Love is the key to happiness. We all want to l...\n",
       "2     One day I was studying in my room when, all of...\n",
       "3                             I am so angry at you!!!!!\n",
       "4     you ve hit a new low with a danger of blm fasc...\n",
       "5                                       I love my doggg\n",
       "6                        I think i'm gonna be sick :'‑(\n",
       "7                                    I hate you so much\n",
       "8                                           I'm at work\n",
       "9     @TheTombert i was watching Harpers Island, lol...\n",
       "10    sometimes i wish things could go back to the w...\n",
       "11         it's your 18th birthday finally!!! yippeeeee\n",
       "12                                still waiting in line\n",
       "13    aarrgghh - fu*k.....a hose has leaked water al...\n",
       "14                                that b*tch is so ugly\n",
       "15                          oh no he is hospitalised!!!\n",
       "Name: 0, dtype: object"
      ]
     },
     "execution_count": 57,
     "metadata": {},
     "output_type": "execute_result"
    }
   ],
   "source": [
    "#Predicting the emotion of the tweet \n",
    "text_pred = lr.predict(text_count)\n",
    "print(text_pred)\n",
    "text[0]\n",
    "# 0 = neutral\n",
    "# 1 = happy\n",
    "# 2 = sad\n",
    "# 3 = love\n",
    "# 4 = anger"
   ]
  },
  {
   "cell_type": "code",
   "execution_count": 58,
   "metadata": {
    "id": "JYJWPehWxF9Q"
   },
   "outputs": [],
   "source": [
    "final_result=text.copy()"
   ]
  },
  {
   "cell_type": "code",
   "execution_count": 59,
   "metadata": {
    "colab": {
     "base_uri": "https://localhost:8080/",
     "height": 551
    },
    "id": "nzcnrZtkxJ-a",
    "outputId": "5913d10e-8b5f-4a0b-c721-f4b3588e1979"
   },
   "outputs": [
    {
     "data": {
      "text/html": [
       "<div>\n",
       "<style scoped>\n",
       "    .dataframe tbody tr th:only-of-type {\n",
       "        vertical-align: middle;\n",
       "    }\n",
       "\n",
       "    .dataframe tbody tr th {\n",
       "        vertical-align: top;\n",
       "    }\n",
       "\n",
       "    .dataframe thead th {\n",
       "        text-align: right;\n",
       "    }\n",
       "</style>\n",
       "<table border=\"1\" class=\"dataframe\">\n",
       "  <thead>\n",
       "    <tr style=\"text-align: right;\">\n",
       "      <th></th>\n",
       "      <th>text</th>\n",
       "      <th>predicted_emotion</th>\n",
       "    </tr>\n",
       "  </thead>\n",
       "  <tbody>\n",
       "    <tr>\n",
       "      <th>0</th>\n",
       "      <td>For instance, giving a kiss to your younger si...</td>\n",
       "      <td>joy</td>\n",
       "    </tr>\n",
       "    <tr>\n",
       "      <th>1</th>\n",
       "      <td>Love is the key to happiness. We all want to l...</td>\n",
       "      <td>joy</td>\n",
       "    </tr>\n",
       "    <tr>\n",
       "      <th>2</th>\n",
       "      <td>One day I was studying in my room when, all of...</td>\n",
       "      <td>anger</td>\n",
       "    </tr>\n",
       "    <tr>\n",
       "      <th>3</th>\n",
       "      <td>I am so angry at you!!!!!</td>\n",
       "      <td>anger</td>\n",
       "    </tr>\n",
       "    <tr>\n",
       "      <th>4</th>\n",
       "      <td>you ve hit a new low with a danger of blm fasc...</td>\n",
       "      <td>sadness</td>\n",
       "    </tr>\n",
       "    <tr>\n",
       "      <th>5</th>\n",
       "      <td>I love my doggg</td>\n",
       "      <td>joy</td>\n",
       "    </tr>\n",
       "    <tr>\n",
       "      <th>6</th>\n",
       "      <td>I think i'm gonna be sick :'‑(</td>\n",
       "      <td>anger</td>\n",
       "    </tr>\n",
       "    <tr>\n",
       "      <th>7</th>\n",
       "      <td>I hate you so much</td>\n",
       "      <td>sadness</td>\n",
       "    </tr>\n",
       "    <tr>\n",
       "      <th>8</th>\n",
       "      <td>I'm at work</td>\n",
       "      <td>joy</td>\n",
       "    </tr>\n",
       "    <tr>\n",
       "      <th>9</th>\n",
       "      <td>@TheTombert i was watching Harpers Island, lol...</td>\n",
       "      <td>joy</td>\n",
       "    </tr>\n",
       "    <tr>\n",
       "      <th>10</th>\n",
       "      <td>sometimes i wish things could go back to the w...</td>\n",
       "      <td>joy</td>\n",
       "    </tr>\n",
       "    <tr>\n",
       "      <th>11</th>\n",
       "      <td>it's your 18th birthday finally!!! yippeeeee</td>\n",
       "      <td>joy</td>\n",
       "    </tr>\n",
       "    <tr>\n",
       "      <th>12</th>\n",
       "      <td>still waiting in line</td>\n",
       "      <td>joy</td>\n",
       "    </tr>\n",
       "    <tr>\n",
       "      <th>13</th>\n",
       "      <td>aarrgghh - fu*k.....a hose has leaked water al...</td>\n",
       "      <td>joy</td>\n",
       "    </tr>\n",
       "    <tr>\n",
       "      <th>14</th>\n",
       "      <td>that b*tch is so ugly</td>\n",
       "      <td>sadness</td>\n",
       "    </tr>\n",
       "    <tr>\n",
       "      <th>15</th>\n",
       "      <td>oh no he is hospitalised!!!</td>\n",
       "      <td>joy</td>\n",
       "    </tr>\n",
       "  </tbody>\n",
       "</table>\n",
       "</div>"
      ],
      "text/plain": [
       "                                                 text predicted_emotion\n",
       "0   For instance, giving a kiss to your younger si...               joy\n",
       "1   Love is the key to happiness. We all want to l...               joy\n",
       "2   One day I was studying in my room when, all of...             anger\n",
       "3                           I am so angry at you!!!!!             anger\n",
       "4   you ve hit a new low with a danger of blm fasc...           sadness\n",
       "5                                     I love my doggg               joy\n",
       "6                      I think i'm gonna be sick :'‑(             anger\n",
       "7                                  I hate you so much           sadness\n",
       "8                                         I'm at work               joy\n",
       "9   @TheTombert i was watching Harpers Island, lol...               joy\n",
       "10  sometimes i wish things could go back to the w...               joy\n",
       "11       it's your 18th birthday finally!!! yippeeeee               joy\n",
       "12                              still waiting in line               joy\n",
       "13  aarrgghh - fu*k.....a hose has leaked water al...               joy\n",
       "14                              that b*tch is so ugly           sadness\n",
       "15                        oh no he is hospitalised!!!               joy"
      ]
     },
     "execution_count": 59,
     "metadata": {},
     "output_type": "execute_result"
    }
   ],
   "source": [
    "final_result['result']=text_pred\n",
    "final_result=final_result.rename(columns={0:\"text\"})\n",
    "final_result=final_result.rename(columns={\"result\":\"predicted_emotion\"})\n",
    "final_result=final_result.replace({0: 'Neutral', 1: 'Happy', 2: 'Sad', 3: 'Love', 4: 'Anger'})\n",
    "final_result"
   ]
  },
  {
   "cell_type": "code",
   "execution_count": null,
   "metadata": {},
   "outputs": [],
   "source": []
  }
 ],
 "metadata": {
  "colab": {
   "collapsed_sections": [],
   "name": " EMOTION_DETECTION .ipynb",
   "provenance": []
  },
  "kernelspec": {
   "display_name": "Python 3",
   "language": "python",
   "name": "python3"
  },
  "language_info": {
   "codemirror_mode": {
    "name": "ipython",
    "version": 3
   },
   "file_extension": ".py",
   "mimetype": "text/x-python",
   "name": "python",
   "nbconvert_exporter": "python",
   "pygments_lexer": "ipython3",
   "version": "3.8.8"
  },
  "widgets": {
   "application/vnd.jupyter.widget-state+json": {
    "03843b5e907f4a9e900054b8bec228a4": {
     "model_module": "@jupyter-widgets/controls",
     "model_module_version": "1.5.0",
     "model_name": "DescriptionStyleModel",
     "state": {
      "_model_module": "@jupyter-widgets/controls",
      "_model_module_version": "1.5.0",
      "_model_name": "DescriptionStyleModel",
      "_view_count": null,
      "_view_module": "@jupyter-widgets/base",
      "_view_module_version": "1.2.0",
      "_view_name": "StyleView",
      "description_width": ""
     }
    },
    "0d74e05562984dda9a4cec1eddd964c9": {
     "model_module": "@jupyter-widgets/base",
     "model_module_version": "1.2.0",
     "model_name": "LayoutModel",
     "state": {
      "_model_module": "@jupyter-widgets/base",
      "_model_module_version": "1.2.0",
      "_model_name": "LayoutModel",
      "_view_count": null,
      "_view_module": "@jupyter-widgets/base",
      "_view_module_version": "1.2.0",
      "_view_name": "LayoutView",
      "align_content": null,
      "align_items": null,
      "align_self": null,
      "border": null,
      "bottom": null,
      "display": null,
      "flex": null,
      "flex_flow": null,
      "grid_area": null,
      "grid_auto_columns": null,
      "grid_auto_flow": null,
      "grid_auto_rows": null,
      "grid_column": null,
      "grid_gap": null,
      "grid_row": null,
      "grid_template_areas": null,
      "grid_template_columns": null,
      "grid_template_rows": null,
      "height": null,
      "justify_content": null,
      "justify_items": null,
      "left": null,
      "margin": null,
      "max_height": null,
      "max_width": null,
      "min_height": null,
      "min_width": null,
      "object_fit": null,
      "object_position": null,
      "order": null,
      "overflow": null,
      "overflow_x": null,
      "overflow_y": null,
      "padding": null,
      "right": null,
      "top": null,
      "visibility": null,
      "width": null
     }
    },
    "0e09082329d14160a5f4bc8a4173dc60": {
     "model_module": "@jupyter-widgets/controls",
     "model_module_version": "1.5.0",
     "model_name": "DescriptionStyleModel",
     "state": {
      "_model_module": "@jupyter-widgets/controls",
      "_model_module_version": "1.5.0",
      "_model_name": "DescriptionStyleModel",
      "_view_count": null,
      "_view_module": "@jupyter-widgets/base",
      "_view_module_version": "1.2.0",
      "_view_name": "StyleView",
      "description_width": ""
     }
    },
    "37e83633c68b411a8aabefa8b6847a2e": {
     "model_module": "@jupyter-widgets/controls",
     "model_module_version": "1.5.0",
     "model_name": "HBoxModel",
     "state": {
      "_dom_classes": [],
      "_model_module": "@jupyter-widgets/controls",
      "_model_module_version": "1.5.0",
      "_model_name": "HBoxModel",
      "_view_count": null,
      "_view_module": "@jupyter-widgets/controls",
      "_view_module_version": "1.5.0",
      "_view_name": "HBoxView",
      "box_style": "",
      "children": [
       "IPY_MODEL_78ded9a8bf7e4ff5bc083b5577e7ac9f",
       "IPY_MODEL_9fbd4879d81043be8668ed1a2d62bdf7",
       "IPY_MODEL_f3a5bb9467d54fe09cd894113f5e0b5e"
      ],
      "layout": "IPY_MODEL_8b7a031c3a8140029142e8a2df426497"
     }
    },
    "421b3b728e3640018a6fa8d09aae453b": {
     "model_module": "@jupyter-widgets/controls",
     "model_module_version": "1.5.0",
     "model_name": "DescriptionStyleModel",
     "state": {
      "_model_module": "@jupyter-widgets/controls",
      "_model_module_version": "1.5.0",
      "_model_name": "DescriptionStyleModel",
      "_view_count": null,
      "_view_module": "@jupyter-widgets/base",
      "_view_module_version": "1.2.0",
      "_view_name": "StyleView",
      "description_width": ""
     }
    },
    "4bb20a2498734732a1e598819ee9d549": {
     "model_module": "@jupyter-widgets/controls",
     "model_module_version": "1.5.0",
     "model_name": "HTMLModel",
     "state": {
      "_dom_classes": [],
      "_model_module": "@jupyter-widgets/controls",
      "_model_module_version": "1.5.0",
      "_model_name": "HTMLModel",
      "_view_count": null,
      "_view_module": "@jupyter-widgets/controls",
      "_view_module_version": "1.5.0",
      "_view_name": "HTMLView",
      "description": "",
      "description_tooltip": null,
      "layout": "IPY_MODEL_dff64b3abca742a3aa5a73b015afc5e3",
      "placeholder": "​",
      "style": "IPY_MODEL_421b3b728e3640018a6fa8d09aae453b",
      "value": " 18000/18000 [00:02&lt;00:00, 8058.55it/s]"
     }
    },
    "5022f3d5f7e5498ea4dbf0d40b72162b": {
     "model_module": "@jupyter-widgets/controls",
     "model_module_version": "1.5.0",
     "model_name": "HBoxModel",
     "state": {
      "_dom_classes": [],
      "_model_module": "@jupyter-widgets/controls",
      "_model_module_version": "1.5.0",
      "_model_name": "HBoxModel",
      "_view_count": null,
      "_view_module": "@jupyter-widgets/controls",
      "_view_module_version": "1.5.0",
      "_view_name": "HBoxView",
      "box_style": "",
      "children": [
       "IPY_MODEL_e71e5fa6910446c2988228ac3f6eec12",
       "IPY_MODEL_5cf154599c75498db9693886e30c0ac6",
       "IPY_MODEL_4bb20a2498734732a1e598819ee9d549"
      ],
      "layout": "IPY_MODEL_826dd7c9d05c46c98808072e52ade234"
     }
    },
    "5cf154599c75498db9693886e30c0ac6": {
     "model_module": "@jupyter-widgets/controls",
     "model_module_version": "1.5.0",
     "model_name": "FloatProgressModel",
     "state": {
      "_dom_classes": [],
      "_model_module": "@jupyter-widgets/controls",
      "_model_module_version": "1.5.0",
      "_model_name": "FloatProgressModel",
      "_view_count": null,
      "_view_module": "@jupyter-widgets/controls",
      "_view_module_version": "1.5.0",
      "_view_name": "ProgressView",
      "bar_style": "success",
      "description": "",
      "description_tooltip": null,
      "layout": "IPY_MODEL_bb4ab2cfef5340aa969c963c6ad7e842",
      "max": 18000,
      "min": 0,
      "orientation": "horizontal",
      "style": "IPY_MODEL_ebb58ae2d11d4d799bfb0b9b1454e8e0",
      "value": 18000
     }
    },
    "641119b910cd467d8a73f9446826b7c9": {
     "model_module": "@jupyter-widgets/base",
     "model_module_version": "1.2.0",
     "model_name": "LayoutModel",
     "state": {
      "_model_module": "@jupyter-widgets/base",
      "_model_module_version": "1.2.0",
      "_model_name": "LayoutModel",
      "_view_count": null,
      "_view_module": "@jupyter-widgets/base",
      "_view_module_version": "1.2.0",
      "_view_name": "LayoutView",
      "align_content": null,
      "align_items": null,
      "align_self": null,
      "border": null,
      "bottom": null,
      "display": null,
      "flex": null,
      "flex_flow": null,
      "grid_area": null,
      "grid_auto_columns": null,
      "grid_auto_flow": null,
      "grid_auto_rows": null,
      "grid_column": null,
      "grid_gap": null,
      "grid_row": null,
      "grid_template_areas": null,
      "grid_template_columns": null,
      "grid_template_rows": null,
      "height": null,
      "justify_content": null,
      "justify_items": null,
      "left": null,
      "margin": null,
      "max_height": null,
      "max_width": null,
      "min_height": null,
      "min_width": null,
      "object_fit": null,
      "object_position": null,
      "order": null,
      "overflow": null,
      "overflow_x": null,
      "overflow_y": null,
      "padding": null,
      "right": null,
      "top": null,
      "visibility": null,
      "width": null
     }
    },
    "73449d669d264244b728a5eb9a16c9ca": {
     "model_module": "@jupyter-widgets/controls",
     "model_module_version": "1.5.0",
     "model_name": "ProgressStyleModel",
     "state": {
      "_model_module": "@jupyter-widgets/controls",
      "_model_module_version": "1.5.0",
      "_model_name": "ProgressStyleModel",
      "_view_count": null,
      "_view_module": "@jupyter-widgets/base",
      "_view_module_version": "1.2.0",
      "_view_name": "StyleView",
      "bar_color": null,
      "description_width": ""
     }
    },
    "78ded9a8bf7e4ff5bc083b5577e7ac9f": {
     "model_module": "@jupyter-widgets/controls",
     "model_module_version": "1.5.0",
     "model_name": "HTMLModel",
     "state": {
      "_dom_classes": [],
      "_model_module": "@jupyter-widgets/controls",
      "_model_module_version": "1.5.0",
      "_model_name": "HTMLModel",
      "_view_count": null,
      "_view_module": "@jupyter-widgets/controls",
      "_view_module_version": "1.5.0",
      "_view_name": "HTMLView",
      "description": "",
      "description_tooltip": null,
      "layout": "IPY_MODEL_0d74e05562984dda9a4cec1eddd964c9",
      "placeholder": "​",
      "style": "IPY_MODEL_0e09082329d14160a5f4bc8a4173dc60",
      "value": "100%"
     }
    },
    "826dd7c9d05c46c98808072e52ade234": {
     "model_module": "@jupyter-widgets/base",
     "model_module_version": "1.2.0",
     "model_name": "LayoutModel",
     "state": {
      "_model_module": "@jupyter-widgets/base",
      "_model_module_version": "1.2.0",
      "_model_name": "LayoutModel",
      "_view_count": null,
      "_view_module": "@jupyter-widgets/base",
      "_view_module_version": "1.2.0",
      "_view_name": "LayoutView",
      "align_content": null,
      "align_items": null,
      "align_self": null,
      "border": null,
      "bottom": null,
      "display": null,
      "flex": null,
      "flex_flow": null,
      "grid_area": null,
      "grid_auto_columns": null,
      "grid_auto_flow": null,
      "grid_auto_rows": null,
      "grid_column": null,
      "grid_gap": null,
      "grid_row": null,
      "grid_template_areas": null,
      "grid_template_columns": null,
      "grid_template_rows": null,
      "height": null,
      "justify_content": null,
      "justify_items": null,
      "left": null,
      "margin": null,
      "max_height": null,
      "max_width": null,
      "min_height": null,
      "min_width": null,
      "object_fit": null,
      "object_position": null,
      "order": null,
      "overflow": null,
      "overflow_x": null,
      "overflow_y": null,
      "padding": null,
      "right": null,
      "top": null,
      "visibility": null,
      "width": null
     }
    },
    "8b7a031c3a8140029142e8a2df426497": {
     "model_module": "@jupyter-widgets/base",
     "model_module_version": "1.2.0",
     "model_name": "LayoutModel",
     "state": {
      "_model_module": "@jupyter-widgets/base",
      "_model_module_version": "1.2.0",
      "_model_name": "LayoutModel",
      "_view_count": null,
      "_view_module": "@jupyter-widgets/base",
      "_view_module_version": "1.2.0",
      "_view_name": "LayoutView",
      "align_content": null,
      "align_items": null,
      "align_self": null,
      "border": null,
      "bottom": null,
      "display": null,
      "flex": null,
      "flex_flow": null,
      "grid_area": null,
      "grid_auto_columns": null,
      "grid_auto_flow": null,
      "grid_auto_rows": null,
      "grid_column": null,
      "grid_gap": null,
      "grid_row": null,
      "grid_template_areas": null,
      "grid_template_columns": null,
      "grid_template_rows": null,
      "height": null,
      "justify_content": null,
      "justify_items": null,
      "left": null,
      "margin": null,
      "max_height": null,
      "max_width": null,
      "min_height": null,
      "min_width": null,
      "object_fit": null,
      "object_position": null,
      "order": null,
      "overflow": null,
      "overflow_x": null,
      "overflow_y": null,
      "padding": null,
      "right": null,
      "top": null,
      "visibility": null,
      "width": null
     }
    },
    "9fbd4879d81043be8668ed1a2d62bdf7": {
     "model_module": "@jupyter-widgets/controls",
     "model_module_version": "1.5.0",
     "model_name": "FloatProgressModel",
     "state": {
      "_dom_classes": [],
      "_model_module": "@jupyter-widgets/controls",
      "_model_module_version": "1.5.0",
      "_model_name": "FloatProgressModel",
      "_view_count": null,
      "_view_module": "@jupyter-widgets/controls",
      "_view_module_version": "1.5.0",
      "_view_name": "ProgressView",
      "bar_style": "success",
      "description": "",
      "description_tooltip": null,
      "layout": "IPY_MODEL_641119b910cd467d8a73f9446826b7c9",
      "max": 18000,
      "min": 0,
      "orientation": "horizontal",
      "style": "IPY_MODEL_73449d669d264244b728a5eb9a16c9ca",
      "value": 18000
     }
    },
    "bb4ab2cfef5340aa969c963c6ad7e842": {
     "model_module": "@jupyter-widgets/base",
     "model_module_version": "1.2.0",
     "model_name": "LayoutModel",
     "state": {
      "_model_module": "@jupyter-widgets/base",
      "_model_module_version": "1.2.0",
      "_model_name": "LayoutModel",
      "_view_count": null,
      "_view_module": "@jupyter-widgets/base",
      "_view_module_version": "1.2.0",
      "_view_name": "LayoutView",
      "align_content": null,
      "align_items": null,
      "align_self": null,
      "border": null,
      "bottom": null,
      "display": null,
      "flex": null,
      "flex_flow": null,
      "grid_area": null,
      "grid_auto_columns": null,
      "grid_auto_flow": null,
      "grid_auto_rows": null,
      "grid_column": null,
      "grid_gap": null,
      "grid_row": null,
      "grid_template_areas": null,
      "grid_template_columns": null,
      "grid_template_rows": null,
      "height": null,
      "justify_content": null,
      "justify_items": null,
      "left": null,
      "margin": null,
      "max_height": null,
      "max_width": null,
      "min_height": null,
      "min_width": null,
      "object_fit": null,
      "object_position": null,
      "order": null,
      "overflow": null,
      "overflow_x": null,
      "overflow_y": null,
      "padding": null,
      "right": null,
      "top": null,
      "visibility": null,
      "width": null
     }
    },
    "d5748a6467464ce1aeefdc7187a0eefb": {
     "model_module": "@jupyter-widgets/base",
     "model_module_version": "1.2.0",
     "model_name": "LayoutModel",
     "state": {
      "_model_module": "@jupyter-widgets/base",
      "_model_module_version": "1.2.0",
      "_model_name": "LayoutModel",
      "_view_count": null,
      "_view_module": "@jupyter-widgets/base",
      "_view_module_version": "1.2.0",
      "_view_name": "LayoutView",
      "align_content": null,
      "align_items": null,
      "align_self": null,
      "border": null,
      "bottom": null,
      "display": null,
      "flex": null,
      "flex_flow": null,
      "grid_area": null,
      "grid_auto_columns": null,
      "grid_auto_flow": null,
      "grid_auto_rows": null,
      "grid_column": null,
      "grid_gap": null,
      "grid_row": null,
      "grid_template_areas": null,
      "grid_template_columns": null,
      "grid_template_rows": null,
      "height": null,
      "justify_content": null,
      "justify_items": null,
      "left": null,
      "margin": null,
      "max_height": null,
      "max_width": null,
      "min_height": null,
      "min_width": null,
      "object_fit": null,
      "object_position": null,
      "order": null,
      "overflow": null,
      "overflow_x": null,
      "overflow_y": null,
      "padding": null,
      "right": null,
      "top": null,
      "visibility": null,
      "width": null
     }
    },
    "dff64b3abca742a3aa5a73b015afc5e3": {
     "model_module": "@jupyter-widgets/base",
     "model_module_version": "1.2.0",
     "model_name": "LayoutModel",
     "state": {
      "_model_module": "@jupyter-widgets/base",
      "_model_module_version": "1.2.0",
      "_model_name": "LayoutModel",
      "_view_count": null,
      "_view_module": "@jupyter-widgets/base",
      "_view_module_version": "1.2.0",
      "_view_name": "LayoutView",
      "align_content": null,
      "align_items": null,
      "align_self": null,
      "border": null,
      "bottom": null,
      "display": null,
      "flex": null,
      "flex_flow": null,
      "grid_area": null,
      "grid_auto_columns": null,
      "grid_auto_flow": null,
      "grid_auto_rows": null,
      "grid_column": null,
      "grid_gap": null,
      "grid_row": null,
      "grid_template_areas": null,
      "grid_template_columns": null,
      "grid_template_rows": null,
      "height": null,
      "justify_content": null,
      "justify_items": null,
      "left": null,
      "margin": null,
      "max_height": null,
      "max_width": null,
      "min_height": null,
      "min_width": null,
      "object_fit": null,
      "object_position": null,
      "order": null,
      "overflow": null,
      "overflow_x": null,
      "overflow_y": null,
      "padding": null,
      "right": null,
      "top": null,
      "visibility": null,
      "width": null
     }
    },
    "e2de9bf7f8ae41f08e5b04b2512b1754": {
     "model_module": "@jupyter-widgets/controls",
     "model_module_version": "1.5.0",
     "model_name": "DescriptionStyleModel",
     "state": {
      "_model_module": "@jupyter-widgets/controls",
      "_model_module_version": "1.5.0",
      "_model_name": "DescriptionStyleModel",
      "_view_count": null,
      "_view_module": "@jupyter-widgets/base",
      "_view_module_version": "1.2.0",
      "_view_name": "StyleView",
      "description_width": ""
     }
    },
    "e71e5fa6910446c2988228ac3f6eec12": {
     "model_module": "@jupyter-widgets/controls",
     "model_module_version": "1.5.0",
     "model_name": "HTMLModel",
     "state": {
      "_dom_classes": [],
      "_model_module": "@jupyter-widgets/controls",
      "_model_module_version": "1.5.0",
      "_model_name": "HTMLModel",
      "_view_count": null,
      "_view_module": "@jupyter-widgets/controls",
      "_view_module_version": "1.5.0",
      "_view_name": "HTMLView",
      "description": "",
      "description_tooltip": null,
      "layout": "IPY_MODEL_d5748a6467464ce1aeefdc7187a0eefb",
      "placeholder": "​",
      "style": "IPY_MODEL_e2de9bf7f8ae41f08e5b04b2512b1754",
      "value": "100%"
     }
    },
    "ebb58ae2d11d4d799bfb0b9b1454e8e0": {
     "model_module": "@jupyter-widgets/controls",
     "model_module_version": "1.5.0",
     "model_name": "ProgressStyleModel",
     "state": {
      "_model_module": "@jupyter-widgets/controls",
      "_model_module_version": "1.5.0",
      "_model_name": "ProgressStyleModel",
      "_view_count": null,
      "_view_module": "@jupyter-widgets/base",
      "_view_module_version": "1.2.0",
      "_view_name": "StyleView",
      "bar_color": null,
      "description_width": ""
     }
    },
    "f3a5bb9467d54fe09cd894113f5e0b5e": {
     "model_module": "@jupyter-widgets/controls",
     "model_module_version": "1.5.0",
     "model_name": "HTMLModel",
     "state": {
      "_dom_classes": [],
      "_model_module": "@jupyter-widgets/controls",
      "_model_module_version": "1.5.0",
      "_model_name": "HTMLModel",
      "_view_count": null,
      "_view_module": "@jupyter-widgets/controls",
      "_view_module_version": "1.5.0",
      "_view_name": "HTMLView",
      "description": "",
      "description_tooltip": null,
      "layout": "IPY_MODEL_fd252dff706746ac85201178080eff5c",
      "placeholder": "​",
      "style": "IPY_MODEL_03843b5e907f4a9e900054b8bec228a4",
      "value": " 18000/18000 [01:23&lt;00:00, 241.05it/s]"
     }
    },
    "fd252dff706746ac85201178080eff5c": {
     "model_module": "@jupyter-widgets/base",
     "model_module_version": "1.2.0",
     "model_name": "LayoutModel",
     "state": {
      "_model_module": "@jupyter-widgets/base",
      "_model_module_version": "1.2.0",
      "_model_name": "LayoutModel",
      "_view_count": null,
      "_view_module": "@jupyter-widgets/base",
      "_view_module_version": "1.2.0",
      "_view_name": "LayoutView",
      "align_content": null,
      "align_items": null,
      "align_self": null,
      "border": null,
      "bottom": null,
      "display": null,
      "flex": null,
      "flex_flow": null,
      "grid_area": null,
      "grid_auto_columns": null,
      "grid_auto_flow": null,
      "grid_auto_rows": null,
      "grid_column": null,
      "grid_gap": null,
      "grid_row": null,
      "grid_template_areas": null,
      "grid_template_columns": null,
      "grid_template_rows": null,
      "height": null,
      "justify_content": null,
      "justify_items": null,
      "left": null,
      "margin": null,
      "max_height": null,
      "max_width": null,
      "min_height": null,
      "min_width": null,
      "object_fit": null,
      "object_position": null,
      "order": null,
      "overflow": null,
      "overflow_x": null,
      "overflow_y": null,
      "padding": null,
      "right": null,
      "top": null,
      "visibility": null,
      "width": null
     }
    }
   }
  }
 },
 "nbformat": 4,
 "nbformat_minor": 1
}
